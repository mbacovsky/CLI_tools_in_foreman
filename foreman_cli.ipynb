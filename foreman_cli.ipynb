{
 "cells": [
  {
   "cell_type": "markdown",
   "metadata": {
    "slideshow": {
     "slide_type": "slide"
    }
   },
   "source": [
    "\n",
    "# CLI tools for Foreman\n",
    "\n",
    "\n",
    "\n",
    "\n",
    "\n",
    "### Martin Bačovský\n",
    "#### mbacovsk@redhat.com"
   ]
  },
  {
   "cell_type": "markdown",
   "metadata": {
    "slideshow": {
     "slide_type": "slide"
    }
   },
   "source": [
    "# Agenda\n",
    "- overview of the tools \n",
    "- live examples for individual options\n",
    "- troubleshooting\n",
    "- new features"
   ]
  },
  {
   "cell_type": "markdown",
   "metadata": {
    "slideshow": {
     "slide_type": "slide"
    }
   },
   "source": [
    "## Foreman API\n",
    "- general purpose API\n",
    "- versioned - v2\n",
    "- extensible from Foreman plugins\n",
    "- same features as in UI"
   ]
  },
  {
   "cell_type": "markdown",
   "metadata": {
    "slideshow": {
     "slide_type": "fragment"
    }
   },
   "source": [
    "<div class=\"list-pros\">\n",
    "    \n",
    "- fast\n",
    "- well documented\n",
    "- wide range of tools/libs\n",
    "\n",
    "</div>"
   ]
  },
  {
   "cell_type": "markdown",
   "metadata": {
    "slideshow": {
     "slide_type": "fragment"
    }
   },
   "source": [
    "<div class=\"list-cons\">\n",
    "\n",
    "- usability from shell (curl options, parsing JSON output) \n",
    "- general complexity (routes, inconsistencies across plugins)\n",
    "    \n",
    "</div>"
   ]
  },
  {
   "cell_type": "markdown",
   "metadata": {
    "slideshow": {
     "slide_type": "subslide"
    }
   },
   "source": [
    "### Documentation\n",
    "- documented with Apipie\n",
    "- https://theforeman.org/api/1.23/index.html\n",
    "- https://&lt;your foreman instance&gt;/apidoc/\n",
    "- structured docs in JSON\n",
    "- localized"
   ]
  },
  {
   "cell_type": "markdown",
   "metadata": {
    "slideshow": {
     "slide_type": "subslide"
    }
   },
   "source": [
    "### Example"
   ]
  },
  {
   "cell_type": "code",
   "execution_count": 203,
   "metadata": {
    "scrolled": true,
    "slideshow": {
     "slide_type": "-"
    }
   },
   "outputs": [
    {
     "name": "stdout",
     "output_type": "stream",
     "text": [
      "  % Total    % Received % Xferd  Average Speed   Time    Time     Time  Current\n",
      "                                 Dload  Upload   Total   Spent    Left  Speed\n",
      "100   354    0   354    0     0   1616      0 --:--:-- --:--:-- --:--:--  1616\n",
      "{\n",
      "    \"total\": 2,\n",
      "    \"subtotal\": 2,\n",
      "    \"page\": 1,\n",
      "    \"per_page\": 20,\n",
      "    \"search\": null,\n",
      "    \"sort\": {\n",
      "        \"by\": null,\n",
      "        \"order\": null\n",
      "    },\n",
      "    \"results\": [\n",
      "        {\n",
      "            \"created_at\": \"2018-10-08 17:16:11 UTC\",\n",
      "            \"updated_at\": \"2018-10-08 17:16:11 UTC\",\n",
      "            \"name\": \"x86_64\",\n",
      "            \"id\": 1\n",
      "        },\n",
      "        {\n",
      "            \"created_at\": \"2018-10-08 17:16:11 UTC\",\n",
      "            \"updated_at\": \"2019-11-04 11:40:41 UTC\",\n",
      "            \"name\": \"i486\",\n",
      "            \"id\": 2\n",
      "        }\n",
      "    ]\n",
      "}\n"
     ]
    }
   ],
   "source": [
    "! curl -k -u admin:changeme -X GET \\\n",
    "    -H \"Accept:application/json\" \\\n",
    "    https://centos7-luna-devel.pichi.example.com/api/v2/architectures \\\n",
    "    | python -m json.tool"
   ]
  },
  {
   "cell_type": "markdown",
   "metadata": {
    "slideshow": {
     "slide_type": "slide"
    }
   },
   "source": [
    "# Apipie-bindings\n",
    "\n",
    "- ruby wrapper around Foreman API\n",
    "- simple static library\n",
    "- the API description is loaded from the server\n",
    "- API introspection"
   ]
  },
  {
   "cell_type": "markdown",
   "metadata": {
    "slideshow": {
     "slide_type": "fragment"
    }
   },
   "source": [
    "<div class=\"list-pros\">\n",
    "    \n",
    "- easy to use from Ruby\n",
    "- well tested\n",
    "- it finds the best route based on params\n",
    "- works with any Apipie documented API\n",
    "- logging\n",
    "\n",
    "</div>"
   ]
  },
  {
   "cell_type": "markdown",
   "metadata": {
    "slideshow": {
     "slide_type": "subslide"
    }
   },
   "source": [
    "## Introspection demo"
   ]
  },
  {
   "cell_type": "code",
   "execution_count": 204,
   "metadata": {
    "slideshow": {
     "slide_type": "-"
    }
   },
   "outputs": [
    {
     "name": "stdout",
     "output_type": "stream",
     "text": [
      "Overwriting foreman_api.rb\n"
     ]
    }
   ],
   "source": [
    "%%writefile foreman_api.rb\n",
    "require 'apipie-bindings'\n",
    "require 'awesome_print'\n",
    "\n",
    "def api\n",
    "  ApipieBindings::API.new(\n",
    "    {\n",
    "      :uri => 'https://centos7-luna-devel.pichi.example.com/',\n",
    "      :api_version => 2,\n",
    "      :username => 'admin', \n",
    "      :password => 'changeme'\n",
    "    },\n",
    "    :verify_ssl => false\n",
    "  )\n",
    "end"
   ]
  },
  {
   "cell_type": "code",
   "execution_count": 205,
   "metadata": {
    "slideshow": {
     "slide_type": "subslide"
    }
   },
   "outputs": [
    {
     "name": "stdout",
     "output_type": "stream",
     "text": [
      "#<ApipieBindings::API:0x000000000261d5d0 @uri=\"https://centos7-luna-devel.pichi.example.com/\", @api_version=2, @language=nil, @apidoc_cache_dir=\"/home/mbacovsk/.cache/apipie_bindings/https___centos7-luna-devel.pichi.example.com_/v2\", @apidoc_cache_name=\"13c937025f2570a497cca8a51a31a5cc33d0a7a5\", @apidoc_authenticated=true, @follow_redirects=:default, @dry_run=false, @aggressive_cache_checking=false, @fake_responses={}, @logger=#<Logger:0x0000000002eabdc8 @level=3, @progname=nil, @default_formatter=#<Logger::Formatter:0x0000000002eabd50 @datetime_format=nil>, @formatter=nil, @logdev=#<Logger::LogDevice:0x0000000002eabd00 @shift_period_suffix=nil, @shift_size=nil, @shift_age=nil, @filename=nil, @dev=#<IO:<STDERR>>, @mon_owner=nil, @mon_count=0, @mon_mutex=#<Thread::Mutex:0x0000000002eabc88>>>, @authenticator=#<ApipieBindings::Authenticators::BasicAuth:0x0000000002eaace8 @user=\"admin\", @password=\"changeme\">, @resource_config={:timeout=>nil, :headers=>{:content_type=>\"application/json\", :accept=>\"application/json;version=2\"}, :verify_ssl=>false}, @config={:uri=>\"https://centos7-luna-devel.pichi.example.com/\", :api_version=>2, :username=>\"admin\", :password=>\"changeme\"}>\n"
     ]
    }
   ],
   "source": [
    "%%ruby\n",
    "require './foreman_api.rb'\n",
    "\n",
    "ap api"
   ]
  },
  {
   "cell_type": "markdown",
   "metadata": {
    "slideshow": {
     "slide_type": "subslide"
    }
   },
   "source": [
    "API has resources"
   ]
  },
  {
   "cell_type": "code",
   "execution_count": 206,
   "metadata": {
    "slideshow": {
     "slide_type": "-"
    }
   },
   "outputs": [
    {
     "name": "stdout",
     "output_type": "stream",
     "text": [
      "[\n",
      "    [0] <Resource :hosts>,\n",
      "    [1] <Resource :interfaces>,\n",
      "    [2] <Resource :host_subscriptions>,\n",
      "    [3] <Resource :fact_values>,\n",
      "    [4] <Resource :hostgroups>,\n",
      "    [5] <Resource :smart_proxies>,\n",
      "    [6] <Resource :architectures>,\n",
      "    [7] <Resource :audits>,\n",
      "    [8] <Resource :auth_source_externals>,\n",
      "    [9] <Resource :auth_source_internals>\n",
      "]\n"
     ]
    }
   ],
   "source": [
    "%%ruby\n",
    "require './foreman_api.rb'\n",
    "\n",
    "ap api.resources[0,10]"
   ]
  },
  {
   "cell_type": "markdown",
   "metadata": {
    "slideshow": {
     "slide_type": "subslide"
    }
   },
   "source": [
    "Resources have actions"
   ]
  },
  {
   "cell_type": "code",
   "execution_count": 207,
   "metadata": {
    "slideshow": {
     "slide_type": "-"
    }
   },
   "outputs": [
    {
     "name": "stdout",
     "output_type": "stream",
     "text": [
      "[\n",
      "    [0] <Action architectures:index>,\n",
      "    [1] <Action architectures:show>,\n",
      "    [2] <Action architectures:create>,\n",
      "    [3] <Action architectures:update>,\n",
      "    [4] <Action architectures:destroy>\n",
      "]\n"
     ]
    }
   ],
   "source": [
    "%%ruby\n",
    "require './foreman_api.rb'\n",
    "\n",
    "ap api.resource(:architectures).actions"
   ]
  },
  {
   "cell_type": "markdown",
   "metadata": {
    "slideshow": {
     "slide_type": "subslide"
    }
   },
   "source": [
    "Actions can be called"
   ]
  },
  {
   "cell_type": "code",
   "execution_count": 208,
   "metadata": {
    "slideshow": {
     "slide_type": "-"
    }
   },
   "outputs": [
    {
     "name": "stdout",
     "output_type": "stream",
     "text": [
      "{\n",
      "       \"total\" => 2,\n",
      "    \"subtotal\" => 2,\n",
      "        \"page\" => 1,\n",
      "    \"per_page\" => 20,\n",
      "      \"search\" => nil,\n",
      "        \"sort\" => {\n",
      "           \"by\" => nil,\n",
      "        \"order\" => nil\n",
      "    },\n",
      "     \"results\" => [\n",
      "        [0] {\n",
      "            \"created_at\" => \"2018-10-08 17:16:11 UTC\",\n",
      "            \"updated_at\" => \"2018-10-08 17:16:11 UTC\",\n",
      "                  \"name\" => \"x86_64\",\n",
      "                    \"id\" => 1\n",
      "        },\n",
      "        [1] {\n",
      "            \"created_at\" => \"2018-10-08 17:16:11 UTC\",\n",
      "            \"updated_at\" => \"2019-11-04 11:40:41 UTC\",\n",
      "                  \"name\" => \"i486\",\n",
      "                    \"id\" => 2\n",
      "        }\n",
      "    ]\n",
      "}\n"
     ]
    }
   ],
   "source": [
    "%%ruby\n",
    "require './foreman_api.rb'\n",
    "\n",
    "ap api.resource(:architectures).action(:index).call"
   ]
  },
  {
   "cell_type": "markdown",
   "metadata": {
    "slideshow": {
     "slide_type": "subslide"
    }
   },
   "source": [
    "The following notations are equivalent\n",
    "\n",
    "- `api.resource(:architectures).action(:index).call`\n",
    "- `api.resource(:architectures).call(:index)`\n",
    "- `api.call(:architectures, :index)`"
   ]
  },
  {
   "cell_type": "markdown",
   "metadata": {
    "slideshow": {
     "slide_type": "subslide"
    }
   },
   "source": [
    "Actions also have params"
   ]
  },
  {
   "cell_type": "code",
   "execution_count": 209,
   "metadata": {
    "slideshow": {
     "slide_type": "-"
    }
   },
   "outputs": [
    {
     "name": "stdout",
     "output_type": "stream",
     "text": [
      "[\n",
      "    [0] <Param location_id (Numeric)>,\n",
      "    [1] <Param organization_id (Numeric)>,\n",
      "    [2] <Param *id (String)>,\n",
      "    [3] <Param *architecture (Hash)>\n",
      "]\n"
     ]
    }
   ],
   "source": [
    "%%ruby\n",
    "require './foreman_api.rb'\n",
    "\n",
    "ap api.resource(:architectures).action(:update).params"
   ]
  },
  {
   "cell_type": "markdown",
   "metadata": {
    "slideshow": {
     "slide_type": "fragment"
    }
   },
   "source": [
    "Params can be nested"
   ]
  },
  {
   "cell_type": "code",
   "execution_count": 210,
   "metadata": {
    "slideshow": {
     "slide_type": "-"
    }
   },
   "outputs": [
    {
     "name": "stdout",
     "output_type": "stream",
     "text": [
      "[\n",
      "    [0] <Param name (String)>,\n",
      "    [1] <Param operatingsystem_ids (Array)>\n",
      "]\n"
     ]
    }
   ],
   "source": [
    "%%ruby\n",
    "require './foreman_api.rb'\n",
    "\n",
    "ap api.resource(:architectures).action(:update).params[3].params"
   ]
  },
  {
   "cell_type": "code",
   "execution_count": 212,
   "metadata": {
    "slideshow": {
     "slide_type": "subslide"
    }
   },
   "outputs": [
    {
     "name": "stdout",
     "output_type": "stream",
     "text": [
      "{\n",
      "          \"created_at\" => \"2018-10-08 17:16:11 UTC\",\n",
      "          \"updated_at\" => \"2019-11-07 13:38:19 UTC\",\n",
      "                \"name\" => \"i586\",\n",
      "                  \"id\" => 2,\n",
      "    \"operatingsystems\" => [\n",
      "        [0] {\n",
      "               \"id\" => 3,\n",
      "             \"name\" => \"TestOS1\",\n",
      "            \"title\" => \"TestOS 1\"\n",
      "        },\n",
      "        [1] {\n",
      "               \"id\" => 2,\n",
      "             \"name\" => \"Windows7EM2019-01\",\n",
      "            \"title\" => \"Windows 7 EN (2019-01)\"\n",
      "        }\n",
      "    ],\n",
      "              \"images\" => []\n",
      "}\n"
     ]
    }
   ],
   "source": [
    "%%ruby\n",
    "require './foreman_api.rb'\n",
    "\n",
    "params = {\n",
    "    :id => 2, \n",
    "    :architecture => {\n",
    "       :name => 'i586'\n",
    "    }}\n",
    "ap api.call(:architectures, :update, params)"
   ]
  },
  {
   "cell_type": "markdown",
   "metadata": {
    "slideshow": {
     "slide_type": "subslide"
    }
   },
   "source": [
    "## Alternatives for Python\n",
    "- Apypie (https://github.com/Apipie/apypie/tree/master/apypie)\n",
    "- Nailgun (https://nailgun.readthedocs.io/en/latest/#)"
   ]
  },
  {
   "cell_type": "markdown",
   "metadata": {
    "slideshow": {
     "slide_type": "slide"
    }
   },
   "source": [
    "# Hammer CLI\n",
    "- command-line client for Foreman\n",
    "- same functionality as UI"
   ]
  },
  {
   "cell_type": "markdown",
   "metadata": {
    "slideshow": {
     "slide_type": "fragment"
    }
   },
   "source": [
    "<div class=\"list-pros\">\n",
    "    \n",
    "- can combine multiple API calls in a single command\n",
    "- extensible with plugins\n",
    "- processing of input and output\n",
    "- has help\n",
    "- configurable (auth methods, different servers, ...)\n",
    "\n",
    "</div>"
   ]
  },
  {
   "cell_type": "markdown",
   "metadata": {
    "slideshow": {
     "slide_type": "fragment"
    }
   },
   "source": [
    "<div class=\"list-cons\">\n",
    "    \n",
    "- slow to load\n",
    "\n",
    "</div>"
   ]
  },
  {
   "cell_type": "markdown",
   "metadata": {
    "slideshow": {
     "slide_type": "subslide"
    }
   },
   "source": [
    "## Structure of commands\n",
    "### hammer [global opts] &lt;resource&gt;* &lt;command&gt; [command opts]\n",
    "\n",
    "- global opts (`-d`, `--username`, `--output`, ...)\n",
    "    - `hammer --help`\n",
    "- commands (`list`, `info`, `create`, `update`, `delete`, ...)\n",
    "    - `hammer <resource> --help`\n",
    "- command opts (`--id`, ...)\n",
    "    - `hammer <resource> <command> --help`"
   ]
  },
  {
   "cell_type": "code",
   "execution_count": 213,
   "metadata": {
    "slideshow": {
     "slide_type": "subslide"
    }
   },
   "outputs": [
    {
     "name": "stdout",
     "output_type": "stream",
     "text": [
      "\u001b[1mUsage:\u001b[0m\r\n",
      "    hammer architecture [OPTIONS] SUBCOMMAND [ARG] ...\r\n",
      "\r\n",
      "\u001b[1mParameters:\u001b[0m\r\n",
      " SUBCOMMAND                    Subcommand\r\n",
      " [ARG] ...                     Subcommand arguments\r\n",
      "\r\n",
      "\u001b[1mSubcommands:\u001b[0m\r\n",
      " add-operatingsystem           Associate an operating system\r\n",
      " create                        Create an architecture\r\n",
      " delete                        Delete an architecture\r\n",
      " info                          Show an architecture\r\n",
      " list                          List all architectures\r\n",
      " remove-operatingsystem        Disassociate an operating system\r\n",
      " update                        Update an architecture\r\n",
      "\r\n",
      "\u001b[1mOptions:\u001b[0m\r\n",
      " -h, --help                    Print help\r\n",
      "\r\n",
      "\r\n"
     ]
    }
   ],
   "source": [
    "! hammer architecture --help"
   ]
  },
  {
   "cell_type": "markdown",
   "metadata": {
    "slideshow": {
     "slide_type": "subslide"
    }
   },
   "source": [
    "## Configuration\n",
    "```\n",
    "tree ~/.hammer\n",
    "├── certs\n",
    "├── cli_config.yml\n",
    "├── cli.modules.d\n",
    "│   ├── foreman_remote_execution.yml\n",
    "│   ├── foreman.yml\n",
    "│   └── katello.yml\n",
    "├── defaults.yml\n",
    "├── log\n",
    "│   └── hammer.log\n",
    "├── sessions\n",
    "\n",
    "```"
   ]
  },
  {
   "cell_type": "markdown",
   "metadata": {
    "slideshow": {
     "slide_type": "subslide"
    }
   },
   "source": [
    "## Auth methods\n",
    "- basic auth (username and password)\n",
    "- sessions/ no sessions\n",
    "- auth with user access token\n",
    "- OpenID Connect (Keycloak)\n",
    "- client cert"
   ]
  },
  {
   "cell_type": "markdown",
   "metadata": {
    "slideshow": {
     "slide_type": "subslide"
    }
   },
   "source": [
    "#### Example access token usage"
   ]
  },
  {
   "cell_type": "markdown",
   "metadata": {},
   "source": [
    "```bash \n",
    "$ hammer user access-token create --user admin --name demo\n",
    "```\n",
    "```\n",
    "Personal access token [demo] created:\n",
    "jmzOhwHZy9P2fSmRms3i6A\n",
    "```"
   ]
  },
  {
   "cell_type": "code",
   "execution_count": 214,
   "metadata": {},
   "outputs": [
    {
     "name": "stdout",
     "output_type": "stream",
     "text": [
      "Id:           12\r\n",
      "Name:         demo\r\n",
      "Active:       yes\r\n",
      "Expires at:   \r\n",
      "Created at:   2019/11/06 11:52:45\r\n",
      "Last used at:\r\n",
      "\r\n"
     ]
    }
   ],
   "source": [
    "! hammer --username admin --password jmzOhwHZy9P2fSmRms3i6A \\\n",
    "        user access-token info --name demo --user admin"
   ]
  },
  {
   "cell_type": "markdown",
   "metadata": {
    "slideshow": {
     "slide_type": "subslide"
    }
   },
   "source": [
    "## Output tuning\n",
    "### Global options\n",
    "- `--output` [base, table, csv, yaml, json, silent]\n",
    "- `--no-headers`\n",
    "- `--show-ids`\n",
    "\n",
    "### Command options\n",
    "- `--fields`\n",
    "- `--page`\n",
    "- `--per-page`"
   ]
  },
  {
   "cell_type": "markdown",
   "metadata": {
    "slideshow": {
     "slide_type": "subslide"
    }
   },
   "source": [
    "#### Predefined field sets for host list\n",
    "<div style=\"font-size: 50%;\">\n",
    "    \n",
    "```\n",
    "  +------------------------+-----+---------+------+\n",
    "  |         Fields         | ALL | DEFAULT | THIN |\n",
    "  +------------------------+-----+---------+------+\n",
    "  | Id                     |  x  |    x    |  x   |\n",
    "  | Name                   |  x  |    x    |  x   |\n",
    "  | Operating System       |  x  |    x    |      |\n",
    "  | IP                     |  x  |    x    |      |\n",
    "  | MAC                    |  x  |    x    |      |\n",
    "  | Global Status          |  x  |    x    |      |\n",
    "  | Organization           |  x  |         |      |\n",
    "  | Location               |  x  |         |      |\n",
    "  | Content View           |  x  |    x    |      |\n",
    "  | Bugfix                 |  x  |         |      |\n",
    "      ....\n",
    "  | Enhancement            |  x  |         |      |\n",
    "  +------------------------+-----+---------+------+\n",
    "```\n",
    "\n",
    "</div>"
   ]
  },
  {
   "cell_type": "code",
   "execution_count": 215,
   "metadata": {
    "slideshow": {
     "slide_type": "subslide"
    }
   },
   "outputs": [
    {
     "name": "stdout",
     "output_type": "stream",
     "text": [
      "---\r\n",
      "- Id: 4\r\n",
      "  Name: centos7.pichi.example.com\r\n",
      "  Ip: 192.168.121.172\r\n",
      "  Organization:\r\n",
      "    Name: Default Organization\r\n",
      "    Id: 1\r\n",
      "- Id: 6\r\n",
      "  Name: drew-whyte.pichi.example.com\r\n",
      "  Ip: 192.168.121.10\r\n",
      "  Organization:\r\n",
      "    Name: Default Organization\r\n",
      "    Id: 1\r\n"
     ]
    }
   ],
   "source": [
    "! hammer --output yaml host list --fields THIN,organization,ip --per-page 2"
   ]
  },
  {
   "cell_type": "markdown",
   "metadata": {
    "slideshow": {
     "slide_type": "subslide"
    }
   },
   "source": [
    "## Search and order lists\n",
    "- `--search` - scoped search syntax as in the UI\n",
    "- `--order` - 'id DESC' (may be inconsistent in plugins)"
   ]
  },
  {
   "cell_type": "code",
   "execution_count": 216,
   "metadata": {
    "slideshow": {
     "slide_type": "subslide"
    }
   },
   "outputs": [
    {
     "name": "stdout",
     "output_type": "stream",
     "text": [
      "-----------------------------|---------------\r\n",
      "NAME                         | IP            \r\n",
      "-----------------------------|---------------\r\n",
      "drew-whyte.pichi.example.com | 192.168.121.10\r\n",
      "-----------------------------|---------------\r\n"
     ]
    }
   ],
   "source": [
    "! hammer host list --search \"ip=192.168.121.10\" --fields name,ip"
   ]
  },
  {
   "cell_type": "markdown",
   "metadata": {
    "slideshow": {
     "slide_type": "subslide"
    }
   },
   "source": [
    "## Taxonomies\n",
    "- each API endpoint accepts organization_id and location_id\n",
    "- it sets the scope in which the request is evaluated\n",
    "- it is similar to Org/Loc selector in UI"
   ]
  },
  {
   "cell_type": "markdown",
   "metadata": {
    "slideshow": {
     "slide_type": "subslide"
    }
   },
   "source": [
    "## Troubleshooting\n",
    "- `--debug` global option\n",
    "- check if error messages comes from hammer or API\n",
    "- check for lost API error messages\n",
    "- check server logs (debug verbosity)\n",
    "- see what UI sends if it works there"
   ]
  },
  {
   "cell_type": "code",
   "execution_count": null,
   "metadata": {
    "slideshow": {
     "slide_type": "subslide"
    }
   },
   "outputs": [],
   "source": [
    "! hammer -d os list"
   ]
  },
  {
   "cell_type": "code",
   "execution_count": 219,
   "metadata": {
    "slideshow": {
     "slide_type": "subslide"
    }
   },
   "outputs": [],
   "source": [
    "%%capture request_id\n",
    "! hammer -d os list 2>&1 | grep x_request_id \\\n",
    "   | sed 's/\\([^\"]*\"\\([a-z0-9]*\\)-.*\\)/\\2/' | tr -d '[:cntrl:]'"
   ]
  },
  {
   "cell_type": "code",
   "execution_count": 220,
   "metadata": {
    "slideshow": {
     "slide_type": "fragment"
    }
   },
   "outputs": [
    {
     "name": "stdout",
     "output_type": "stream",
     "text": [
      "5e456046\n"
     ]
    }
   ],
   "source": [
    "print(request_id)"
   ]
  },
  {
   "cell_type": "code",
   "execution_count": 221,
   "metadata": {
    "slideshow": {
     "slide_type": "fragment"
    }
   },
   "outputs": [
    {
     "name": "stdout",
     "output_type": "stream",
     "text": [
      "\u001b[32m2019-11-07T13:49:55\u001b[0m [\u001b[32mI\u001b[0m|\u001b[36mapp\u001b[0m|5e456046] Started GET \"/api/operatingsystems?page=1&per_page=40\" for 192.168.121.1 at 2019-11-07 13:49:55 +0000\r\n",
      "\u001b[32m2019-11-07T13:49:55\u001b[0m [\u001b[32mI\u001b[0m|\u001b[36mapp\u001b[0m|5e456046] Processing by Api::V2::OperatingsystemsController#index as JSON\r\n",
      "\u001b[32m2019-11-07T13:49:55\u001b[0m [\u001b[32mI\u001b[0m|\u001b[36mapp\u001b[0m|5e456046]   Parameters: {\"page\"=>\"1\", \"per_page\"=>\"40\", \"apiv\"=>\"v2\", \"operatingsystem\"=>{}}\r\n",
      "\u001b[32m2019-11-07T13:49:55\u001b[0m [D|\u001b[36mapp\u001b[0m|5e456046] Authenticated user admin against INTERNAL authentication source\r\n",
      "\u001b[32m2019-11-07T13:49:55\u001b[0m [\u001b[32mI\u001b[0m|\u001b[36mapp\u001b[0m|5e456046] Authorized user admin(Admin User)\r\n",
      "\u001b[32m2019-11-07T13:49:55\u001b[0m [D|\u001b[36mtax\u001b[0m|5e456046] Current location set to none\r\n",
      "\u001b[32m2019-11-07T13:49:55\u001b[0m [D|\u001b[36mtax\u001b[0m|5e456046] Current organization set to none\r\n",
      "\u001b[32m2019-11-07T13:49:55\u001b[0m [D|\u001b[36mtax\u001b[0m|5e456046] Current location set to none\r\n",
      "\u001b[32m2019-11-07T13:49:55\u001b[0m [D|\u001b[36mtax\u001b[0m|5e456046] Current organization set to none\r\n",
      "\u001b[32m2019-11-07T13:49:55\u001b[0m [\u001b[32mI\u001b[0m|\u001b[36mapp\u001b[0m|5e456046]   Rendering api/v2/operatingsystems/index.json.rabl within api/v2/layouts/index_layout\r\n",
      "\u001b[32m2019-11-07T13:49:55\u001b[0m [\u001b[32mI\u001b[0m|\u001b[36mapp\u001b[0m|5e456046]   Rendered api/v2/operatingsystems/index.json.rabl within api/v2/layouts/index_layout (39.7ms)\r\n",
      "\u001b[32m2019-11-07T13:49:55\u001b[0m [D|\u001b[36mapp\u001b[0m|5e456046] Body: {\r\n",
      "\u001b[32m2019-11-07T13:49:55\u001b[0m [\u001b[32mI\u001b[0m|\u001b[36mapp\u001b[0m|5e456046] Completed 200 OK in 605ms (Views: 42.5ms | ActiveRecord: 337.8ms)\r\n"
     ]
    }
   ],
   "source": [
    "! ssh vagrant@centos7-luna-devel.pichi.example.com \\\n",
    "      \"grep {request_id} foreman/log/development.log\""
   ]
  },
  {
   "cell_type": "markdown",
   "metadata": {
    "slideshow": {
     "slide_type": "subslide"
    }
   },
   "source": [
    "## Troubleshooting\n",
    "- ask on community.theforeman.org\n",
    "- report issue in projects.theforeman.org\n",
    "- attach debug output"
   ]
  },
  {
   "cell_type": "markdown",
   "metadata": {
    "slideshow": {
     "slide_type": "slide"
    }
   },
   "source": [
    "# GraphQL\n",
    "- powerfull query language\n",
    "- fresh addition to Foreman\n",
    "- lots of potential "
   ]
  },
  {
   "cell_type": "markdown",
   "metadata": {
    "slideshow": {
     "slide_type": "fragment"
    }
   },
   "source": [
    "<div class=\"list-pros\">\n",
    "    \n",
    "- comes with handy console in UI\n",
    "- introspection\n",
    "- flexibility in queries\n",
    "\n",
    "</div>"
   ]
  },
  {
   "cell_type": "markdown",
   "metadata": {
    "slideshow": {
     "slide_type": "fragment"
    }
   },
   "source": [
    "<div class=\"list-cons\">\n",
    "    \n",
    "- no mutations yet\n",
    "- not much feedback on performance\n",
    "\n",
    "</div>"
   ]
  },
  {
   "cell_type": "markdown",
   "metadata": {
    "slideshow": {
     "slide_type": "subslide"
    }
   },
   "source": [
    "### GraphiQL - interractive UI console\n",
    "- https://centos7-luna-devel.pichi.example.com &gt; Toolbox &gt; GraphiQL"
   ]
  },
  {
   "cell_type": "code",
   "execution_count": null,
   "metadata": {
    "slideshow": {
     "slide_type": "skip"
    }
   },
   "outputs": [],
   "source": [
    "import requests\n",
    "from pprint import pprint\n",
    "from urllib3.exceptions import InsecureRequestWarning\n",
    "requests.packages.urllib3.disable_warnings(category=InsecureRequestWarning)\n",
    "\n",
    "url = 'https://centos7-luna-devel.pichi.example.com/api/graphql'\n",
    "data = {'query': '''\n",
    "    query {\n",
    "      users {\n",
    "        totalCount\n",
    "        nodes {\n",
    "            login\n",
    "            mail\n",
    "        }\n",
    "      }\n",
    "    }\n",
    "'''}\n",
    "response = requests.post(url, data=data, verify=False, auth=('admin','changeme'))\n",
    "pprint(response.json())"
   ]
  },
  {
   "cell_type": "code",
   "execution_count": 222,
   "metadata": {
    "slideshow": {
     "slide_type": "subslide"
    }
   },
   "outputs": [
    {
     "name": "stdout",
     "output_type": "stream",
     "text": [
      "Overwriting graphql_params.json\n"
     ]
    }
   ],
   "source": [
    "%%writefile graphql_params.json\n",
    "{\n",
    "    \"query\": \"query {\n",
    "                users(first:2) {\n",
    "                  totalCount\n",
    "                  nodes {\n",
    "                    login\n",
    "                    mail\n",
    "                  }\n",
    "                }\n",
    "              }\"\n",
    "}"
   ]
  },
  {
   "cell_type": "code",
   "execution_count": 223,
   "metadata": {
    "slideshow": {
     "slide_type": "subslide"
    }
   },
   "outputs": [
    {
     "name": "stdout",
     "output_type": "stream",
     "text": [
      "  % Total    % Received % Xferd  Average Speed   Time    Time     Time  Current\n",
      "                                 Dload  Upload   Total   Spent    Left  Speed\n",
      "100   335    0   126  100   209    118    197  0:00:01  0:00:01 --:--:--   316\n",
      "{\n",
      "    \"data\": {\n",
      "        \"users\": {\n",
      "            \"totalCount\": 6,\n",
      "            \"nodes\": [\n",
      "                {\n",
      "                    \"login\": \"techuser\",\n",
      "                    \"mail\": \"\"\n",
      "                },\n",
      "                {\n",
      "                    \"login\": \"admin\",\n",
      "                    \"mail\": \"root@pichi.example.com\"\n",
      "                }\n",
      "            ]\n",
      "        }\n",
      "    }\n",
      "}\n"
     ]
    }
   ],
   "source": [
    "! curl -k -u admin:changeme -X POST -H \"Content-Type:application/json\" \\\n",
    "    -H \"Accept:application/json\" --data @graphql_params.json \\\n",
    "    https://centos7-luna-devel.pichi.example.com/api/graphql | python -m json.tool"
   ]
  },
  {
   "cell_type": "markdown",
   "metadata": {
    "slideshow": {
     "slide_type": "slide"
    }
   },
   "source": [
    "# Report templates\n",
    "- ERB templates\n",
    "- direct access to the data model\n",
    "- macros for easies report formating\n",
    "- see the Foreman Demo #68 for details on usage\n",
    "- predefined reports are easy to clone and extend"
   ]
  },
  {
   "cell_type": "markdown",
   "metadata": {
    "slideshow": {
     "slide_type": "fragment"
    }
   },
   "source": [
    "<div class=\"list-pros\">\n",
    "    \n",
    "- complex reports possible\n",
    "- output format according to your needs\n",
    "- instant and scheduled execution\n",
    "\n",
    "</div>"
   ]
  },
  {
   "cell_type": "markdown",
   "metadata": {
    "slideshow": {
     "slide_type": "fragment"
    }
   },
   "source": [
    "<div class=\"list-cons\">\n",
    "    \n",
    "- runs in protected environemnt\n",
    "- have to create the template first\n",
    "\n",
    "</div>"
   ]
  },
  {
   "cell_type": "markdown",
   "metadata": {
    "slideshow": {
     "slide_type": "subslide"
    }
   },
   "source": [
    "## Available report templates"
   ]
  },
  {
   "cell_type": "code",
   "execution_count": 224,
   "metadata": {
    "slideshow": {
     "slide_type": ""
    }
   },
   "outputs": [
    {
     "name": "stdout",
     "output_type": "stream",
     "text": [
      "----|------------------\r\n",
      "ID  | NAME             \r\n",
      "----|------------------\r\n",
      "143 | Applicable errata\r\n",
      "157 | Applied Errata   \r\n",
      "105 | Host statuses    \r\n",
      "142 | Registered hosts \r\n",
      "144 | Subscriptions    \r\n",
      "----|------------------\r\n"
     ]
    }
   ],
   "source": [
    "! hammer report-template list"
   ]
  },
  {
   "cell_type": "markdown",
   "metadata": {
    "slideshow": {
     "slide_type": "subslide"
    }
   },
   "source": [
    "## Report generation"
   ]
  },
  {
   "cell_type": "code",
   "execution_count": 225,
   "metadata": {},
   "outputs": [
    {
     "name": "stdout",
     "output_type": "stream",
     "text": [
      "---\r\n",
      "- Host: centos7.pichi.example.com\r\n",
      "  Operating System: Centos 7.5\r\n",
      "  Environment: Development\r\n",
      "  Erratum: RHEA-2012:0055\r\n",
      "  Type: security\r\n",
      "  Published: '2012-01-27'\r\n",
      "  Applicable since: 2018-10-08 18:03:07 UTC\r\n",
      "  Severity: ''\r\n",
      "  Packages:\r\n",
      "  - penguin\r\n",
      "  - shark\r\n",
      "  - walrus\r\n",
      "  CVEs: []\r\n",
      "  Reboot suggested: false\r\n"
     ]
    }
   ],
   "source": [
    "! hammer report-template generate --name \"Applicable errata\" \\\n",
    "    --report-format yaml"
   ]
  },
  {
   "cell_type": "markdown",
   "metadata": {
    "slideshow": {
     "slide_type": "slide"
    }
   },
   "source": [
    "# Foreman ansible modules\n",
    "- perfect for Foreman setup with Ansible\n",
    "- Foreman clones for testing\n",
    "- fresh addition\n",
    "- multiple alternatives\n",
    "- https://github.com/theforeman/foreman-ansible-modules\n"
   ]
  },
  {
   "cell_type": "markdown",
   "metadata": {
    "slideshow": {
     "slide_type": "slide"
    }
   },
   "source": [
    "# Foreman maintain\n",
    "- tool to make maintenance tasks easier\n",
    "    - health checks\n",
    "    - backup / restore\n",
    "    - services\n",
    "    - upgrades\n",
    "    - ...\n",
    "- current support for Foreman is not complete\n",
    "- upgrades of Foreman and Debian support is WIP\n",
    "- plans to wrap various maintenance scripts\n"
   ]
  },
  {
   "cell_type": "markdown",
   "metadata": {
    "slideshow": {
     "slide_type": "subslide"
    }
   },
   "source": [
    "## Service status with foreman-maintain"
   ]
  },
  {
   "cell_type": "code",
   "execution_count": 226,
   "metadata": {
    "slideshow": {
     "slide_type": "-"
    }
   },
   "outputs": [
    {
     "name": "stdout",
     "output_type": "stream",
     "text": [
      "Running Status Services\n",
      "================================================================================\n",
      "Get status of applicable services: \n",
      "Displaying the following service(s):\n",
      "\n",
      "rh-mongodb34-mongod, postgresql, qdrouterd, qpidd, squid, pulp_celerybeat, pulp_resource_manager, pulp_streamer, pulp_workers, tomcat, httpd, puppetserver, foreman-proxy\n",
      "\\ displaying rh-mongodb34-mongod                   \u001b[32m\u001b[1m[OK]\u001b[0m            \n",
      "\\ displaying postgresql                            \u001b[32m\u001b[1m[OK]\u001b[0m            \n",
      "\\ displaying qdrouterd                                                                                       \u001b[32m\u001b[1m[OK]\u001b[0m\n",
      "\\ displaying qpidd                                 \u001b[32m\u001b[1m[OK]\u001b[0m            \n",
      "\\ displaying squid                                 \u001b[32m\u001b[1m[OK]\u001b[0m            \n",
      "\\ displaying pulp_celerybeat                       \u001b[32m\u001b[1m[OK]\u001b[0m            \n",
      "\\ displaying pulp_resource_manager                 \u001b[32m\u001b[1m[OK]\u001b[0m            \n",
      "\\ displaying pulp_streamer                         \u001b[32m\u001b[1m[OK]\u001b[0m            \n",
      "\\ displaying pulp_workers                                                                                 \u001b[32m\u001b[1m[OK]\u001b[0m\n",
      "\\ displaying tomcat                                \u001b[32m\u001b[1m[OK]\u001b[0m            \n",
      "\\ displaying httpd                                 \u001b[32m\u001b[1m[OK]\u001b[0m            \n",
      "\\ displaying puppetserver                          \u001b[32m\u001b[1m[OK]\u001b[0m            \n",
      "| displaying foreman-proxy                         \u001b[32m\u001b[1m[OK]\u001b[0m            \n",
      "| All services are running                                            \u001b[32m\u001b[1m[OK]\u001b[0m\n",
      "--------------------------------------------------------------------------------\n",
      "\n"
     ]
    }
   ],
   "source": [
    "! ssh 'root@centos7-luna-devel.pichi.example.com' \\\n",
    "      \"foreman-maintain service status -b\""
   ]
  },
  {
   "cell_type": "markdown",
   "metadata": {
    "slideshow": {
     "slide_type": "slide"
    }
   },
   "source": [
    "# Questions?"
   ]
  }
 ],
 "metadata": {
  "celltoolbar": "Slideshow",
  "kernelspec": {
   "display_name": "Python 3",
   "language": "python",
   "name": "python3"
  },
  "language_info": {
   "codemirror_mode": {
    "name": "ipython",
    "version": 3
   },
   "file_extension": ".py",
   "mimetype": "text/x-python",
   "name": "python",
   "nbconvert_exporter": "python",
   "pygments_lexer": "ipython3",
   "version": "3.7.4"
  },
  "rise": {
   "autolaunch": true,
   "scroll": true
  }
 },
 "nbformat": 4,
 "nbformat_minor": 2
}
